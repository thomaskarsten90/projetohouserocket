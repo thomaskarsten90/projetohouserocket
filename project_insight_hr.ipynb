{
 "cells": [
  {
   "cell_type": "markdown",
   "id": "e9d39b3a",
   "metadata": {},
   "source": [
    "# Bibliotecas"
   ]
  },
  {
   "cell_type": "code",
   "execution_count": 1,
   "id": "98e6d2a8",
   "metadata": {
    "ExecuteTime": {
     "end_time": "2022-07-28T21:30:06.559865Z",
     "start_time": "2022-07-28T21:30:04.150797Z"
    }
   },
   "outputs": [],
   "source": [
    "import pandas as pd\n",
    "import numpy\n",
    "import seaborn as sns\n",
    "from numpy import int64\n",
    "import folium\n",
    "import plotly.express as px"
   ]
  },
  {
   "cell_type": "markdown",
   "id": "51a8bbac",
   "metadata": {},
   "source": [
    "# Importando Dataset e obtendo algumas vizualizações"
   ]
  },
  {
   "cell_type": "code",
   "execution_count": 2,
   "id": "149b4a8c",
   "metadata": {
    "ExecuteTime": {
     "end_time": "2022-07-28T21:30:06.667907Z",
     "start_time": "2022-07-28T21:30:06.591975Z"
    }
   },
   "outputs": [
    {
     "data": {
      "text/html": [
       "<div>\n",
       "<style scoped>\n",
       "    .dataframe tbody tr th:only-of-type {\n",
       "        vertical-align: middle;\n",
       "    }\n",
       "\n",
       "    .dataframe tbody tr th {\n",
       "        vertical-align: top;\n",
       "    }\n",
       "\n",
       "    .dataframe thead th {\n",
       "        text-align: right;\n",
       "    }\n",
       "</style>\n",
       "<table border=\"1\" class=\"dataframe\">\n",
       "  <thead>\n",
       "    <tr style=\"text-align: right;\">\n",
       "      <th></th>\n",
       "      <th>id</th>\n",
       "      <th>date</th>\n",
       "      <th>price</th>\n",
       "      <th>bedrooms</th>\n",
       "      <th>bathrooms</th>\n",
       "      <th>sqft_living</th>\n",
       "      <th>sqft_lot</th>\n",
       "      <th>floors</th>\n",
       "      <th>waterfront</th>\n",
       "      <th>view</th>\n",
       "      <th>...</th>\n",
       "      <th>grade</th>\n",
       "      <th>sqft_above</th>\n",
       "      <th>sqft_basement</th>\n",
       "      <th>yr_built</th>\n",
       "      <th>yr_renovated</th>\n",
       "      <th>zipcode</th>\n",
       "      <th>lat</th>\n",
       "      <th>long</th>\n",
       "      <th>sqft_living15</th>\n",
       "      <th>sqft_lot15</th>\n",
       "    </tr>\n",
       "  </thead>\n",
       "  <tbody>\n",
       "    <tr>\n",
       "      <th>0</th>\n",
       "      <td>7129300520</td>\n",
       "      <td>20141013T000000</td>\n",
       "      <td>221900.0</td>\n",
       "      <td>3</td>\n",
       "      <td>1.00</td>\n",
       "      <td>1180</td>\n",
       "      <td>5650</td>\n",
       "      <td>1.0</td>\n",
       "      <td>0</td>\n",
       "      <td>0</td>\n",
       "      <td>...</td>\n",
       "      <td>7</td>\n",
       "      <td>1180</td>\n",
       "      <td>0</td>\n",
       "      <td>1955</td>\n",
       "      <td>0</td>\n",
       "      <td>98178</td>\n",
       "      <td>47.5112</td>\n",
       "      <td>-122.257</td>\n",
       "      <td>1340</td>\n",
       "      <td>5650</td>\n",
       "    </tr>\n",
       "    <tr>\n",
       "      <th>1</th>\n",
       "      <td>6414100192</td>\n",
       "      <td>20141209T000000</td>\n",
       "      <td>538000.0</td>\n",
       "      <td>3</td>\n",
       "      <td>2.25</td>\n",
       "      <td>2570</td>\n",
       "      <td>7242</td>\n",
       "      <td>2.0</td>\n",
       "      <td>0</td>\n",
       "      <td>0</td>\n",
       "      <td>...</td>\n",
       "      <td>7</td>\n",
       "      <td>2170</td>\n",
       "      <td>400</td>\n",
       "      <td>1951</td>\n",
       "      <td>1991</td>\n",
       "      <td>98125</td>\n",
       "      <td>47.7210</td>\n",
       "      <td>-122.319</td>\n",
       "      <td>1690</td>\n",
       "      <td>7639</td>\n",
       "    </tr>\n",
       "    <tr>\n",
       "      <th>2</th>\n",
       "      <td>5631500400</td>\n",
       "      <td>20150225T000000</td>\n",
       "      <td>180000.0</td>\n",
       "      <td>2</td>\n",
       "      <td>1.00</td>\n",
       "      <td>770</td>\n",
       "      <td>10000</td>\n",
       "      <td>1.0</td>\n",
       "      <td>0</td>\n",
       "      <td>0</td>\n",
       "      <td>...</td>\n",
       "      <td>6</td>\n",
       "      <td>770</td>\n",
       "      <td>0</td>\n",
       "      <td>1933</td>\n",
       "      <td>0</td>\n",
       "      <td>98028</td>\n",
       "      <td>47.7379</td>\n",
       "      <td>-122.233</td>\n",
       "      <td>2720</td>\n",
       "      <td>8062</td>\n",
       "    </tr>\n",
       "    <tr>\n",
       "      <th>3</th>\n",
       "      <td>2487200875</td>\n",
       "      <td>20141209T000000</td>\n",
       "      <td>604000.0</td>\n",
       "      <td>4</td>\n",
       "      <td>3.00</td>\n",
       "      <td>1960</td>\n",
       "      <td>5000</td>\n",
       "      <td>1.0</td>\n",
       "      <td>0</td>\n",
       "      <td>0</td>\n",
       "      <td>...</td>\n",
       "      <td>7</td>\n",
       "      <td>1050</td>\n",
       "      <td>910</td>\n",
       "      <td>1965</td>\n",
       "      <td>0</td>\n",
       "      <td>98136</td>\n",
       "      <td>47.5208</td>\n",
       "      <td>-122.393</td>\n",
       "      <td>1360</td>\n",
       "      <td>5000</td>\n",
       "    </tr>\n",
       "    <tr>\n",
       "      <th>4</th>\n",
       "      <td>1954400510</td>\n",
       "      <td>20150218T000000</td>\n",
       "      <td>510000.0</td>\n",
       "      <td>3</td>\n",
       "      <td>2.00</td>\n",
       "      <td>1680</td>\n",
       "      <td>8080</td>\n",
       "      <td>1.0</td>\n",
       "      <td>0</td>\n",
       "      <td>0</td>\n",
       "      <td>...</td>\n",
       "      <td>8</td>\n",
       "      <td>1680</td>\n",
       "      <td>0</td>\n",
       "      <td>1987</td>\n",
       "      <td>0</td>\n",
       "      <td>98074</td>\n",
       "      <td>47.6168</td>\n",
       "      <td>-122.045</td>\n",
       "      <td>1800</td>\n",
       "      <td>7503</td>\n",
       "    </tr>\n",
       "  </tbody>\n",
       "</table>\n",
       "<p>5 rows × 21 columns</p>\n",
       "</div>"
      ],
      "text/plain": [
       "           id             date     price  bedrooms  bathrooms  sqft_living  \\\n",
       "0  7129300520  20141013T000000  221900.0         3       1.00         1180   \n",
       "1  6414100192  20141209T000000  538000.0         3       2.25         2570   \n",
       "2  5631500400  20150225T000000  180000.0         2       1.00          770   \n",
       "3  2487200875  20141209T000000  604000.0         4       3.00         1960   \n",
       "4  1954400510  20150218T000000  510000.0         3       2.00         1680   \n",
       "\n",
       "   sqft_lot  floors  waterfront  view  ...  grade  sqft_above  sqft_basement  \\\n",
       "0      5650     1.0           0     0  ...      7        1180              0   \n",
       "1      7242     2.0           0     0  ...      7        2170            400   \n",
       "2     10000     1.0           0     0  ...      6         770              0   \n",
       "3      5000     1.0           0     0  ...      7        1050            910   \n",
       "4      8080     1.0           0     0  ...      8        1680              0   \n",
       "\n",
       "   yr_built  yr_renovated  zipcode      lat     long  sqft_living15  \\\n",
       "0      1955             0    98178  47.5112 -122.257           1340   \n",
       "1      1951          1991    98125  47.7210 -122.319           1690   \n",
       "2      1933             0    98028  47.7379 -122.233           2720   \n",
       "3      1965             0    98136  47.5208 -122.393           1360   \n",
       "4      1987             0    98074  47.6168 -122.045           1800   \n",
       "\n",
       "   sqft_lot15  \n",
       "0        5650  \n",
       "1        7639  \n",
       "2        8062  \n",
       "3        5000  \n",
       "4        7503  \n",
       "\n",
       "[5 rows x 21 columns]"
      ]
     },
     "execution_count": 2,
     "metadata": {},
     "output_type": "execute_result"
    }
   ],
   "source": [
    "data = pd.read_csv('kc_house_data.csv')\n",
    "data.head()"
   ]
  },
  {
   "cell_type": "code",
   "execution_count": 3,
   "id": "fce4e6eb",
   "metadata": {
    "ExecuteTime": {
     "end_time": "2022-07-28T21:30:06.713752Z",
     "start_time": "2022-07-28T21:30:06.699789Z"
    }
   },
   "outputs": [
    {
     "name": "stdout",
     "output_type": "stream",
     "text": [
      "<class 'pandas.core.frame.DataFrame'>\n",
      "RangeIndex: 21613 entries, 0 to 21612\n",
      "Data columns (total 21 columns):\n",
      " #   Column         Non-Null Count  Dtype  \n",
      "---  ------         --------------  -----  \n",
      " 0   id             21613 non-null  int64  \n",
      " 1   date           21613 non-null  object \n",
      " 2   price          21613 non-null  float64\n",
      " 3   bedrooms       21613 non-null  int64  \n",
      " 4   bathrooms      21613 non-null  float64\n",
      " 5   sqft_living    21613 non-null  int64  \n",
      " 6   sqft_lot       21613 non-null  int64  \n",
      " 7   floors         21613 non-null  float64\n",
      " 8   waterfront     21613 non-null  int64  \n",
      " 9   view           21613 non-null  int64  \n",
      " 10  condition      21613 non-null  int64  \n",
      " 11  grade          21613 non-null  int64  \n",
      " 12  sqft_above     21613 non-null  int64  \n",
      " 13  sqft_basement  21613 non-null  int64  \n",
      " 14  yr_built       21613 non-null  int64  \n",
      " 15  yr_renovated   21613 non-null  int64  \n",
      " 16  zipcode        21613 non-null  int64  \n",
      " 17  lat            21613 non-null  float64\n",
      " 18  long           21613 non-null  float64\n",
      " 19  sqft_living15  21613 non-null  int64  \n",
      " 20  sqft_lot15     21613 non-null  int64  \n",
      "dtypes: float64(5), int64(15), object(1)\n",
      "memory usage: 3.5+ MB\n"
     ]
    }
   ],
   "source": [
    "data.info()"
   ]
  },
  {
   "cell_type": "code",
   "execution_count": 4,
   "id": "cabcdb93",
   "metadata": {
    "ExecuteTime": {
     "end_time": "2022-07-28T21:30:06.760747Z",
     "start_time": "2022-07-28T21:30:06.746779Z"
    }
   },
   "outputs": [
    {
     "data": {
      "text/plain": [
       "id               0\n",
       "date             0\n",
       "price            0\n",
       "bedrooms         0\n",
       "bathrooms        0\n",
       "sqft_living      0\n",
       "sqft_lot         0\n",
       "floors           0\n",
       "waterfront       0\n",
       "view             0\n",
       "condition        0\n",
       "grade            0\n",
       "sqft_above       0\n",
       "sqft_basement    0\n",
       "yr_built         0\n",
       "yr_renovated     0\n",
       "zipcode          0\n",
       "lat              0\n",
       "long             0\n",
       "sqft_living15    0\n",
       "sqft_lot15       0\n",
       "dtype: int64"
      ]
     },
     "execution_count": 4,
     "metadata": {},
     "output_type": "execute_result"
    }
   ],
   "source": [
    "data.isna().sum()"
   ]
  },
  {
   "cell_type": "markdown",
   "id": "8f7ecf72",
   "metadata": {},
   "source": [
    "# Limpeza dos Dados"
   ]
  },
  {
   "cell_type": "code",
   "execution_count": 5,
   "id": "27e1616a",
   "metadata": {
    "ExecuteTime": {
     "end_time": "2022-07-28T21:30:06.806624Z",
     "start_time": "2022-07-28T21:30:06.792661Z"
    }
   },
   "outputs": [],
   "source": [
    "# ---------- Conversão de tipo de variáveis -----------#\n",
    "data['date'] = pd.to_datetime(data['date'])\n",
    "data['bathrooms'] = data['bathrooms'].astype(int64)\n",
    "data['floors'] = data['floors'].astype(int64)"
   ]
  },
  {
   "cell_type": "code",
   "execution_count": 6,
   "id": "f9f6223b",
   "metadata": {
    "ExecuteTime": {
     "end_time": "2022-07-28T21:30:06.853248Z",
     "start_time": "2022-07-28T21:30:06.839079Z"
    }
   },
   "outputs": [
    {
     "name": "stdout",
     "output_type": "stream",
     "text": [
      "id                        int64\n",
      "date             datetime64[ns]\n",
      "price                   float64\n",
      "bedrooms                  int64\n",
      "bathrooms                 int64\n",
      "sqft_living               int64\n",
      "sqft_lot                  int64\n",
      "floors                    int64\n",
      "waterfront                int64\n",
      "view                      int64\n",
      "condition                 int64\n",
      "grade                     int64\n",
      "sqft_above                int64\n",
      "sqft_basement             int64\n",
      "yr_built                  int64\n",
      "yr_renovated              int64\n",
      "zipcode                   int64\n",
      "lat                     float64\n",
      "long                    float64\n",
      "sqft_living15             int64\n",
      "sqft_lot15                int64\n",
      "dtype: object\n"
     ]
    }
   ],
   "source": [
    "print(data.dtypes)"
   ]
  },
  {
   "cell_type": "code",
   "execution_count": 7,
   "id": "280dcb39",
   "metadata": {
    "ExecuteTime": {
     "end_time": "2022-07-28T21:30:06.916080Z",
     "start_time": "2022-07-28T21:30:06.885162Z"
    }
   },
   "outputs": [
    {
     "data": {
      "text/html": [
       "<div>\n",
       "<style scoped>\n",
       "    .dataframe tbody tr th:only-of-type {\n",
       "        vertical-align: middle;\n",
       "    }\n",
       "\n",
       "    .dataframe tbody tr th {\n",
       "        vertical-align: top;\n",
       "    }\n",
       "\n",
       "    .dataframe thead th {\n",
       "        text-align: right;\n",
       "    }\n",
       "</style>\n",
       "<table border=\"1\" class=\"dataframe\">\n",
       "  <thead>\n",
       "    <tr style=\"text-align: right;\">\n",
       "      <th></th>\n",
       "      <th>id</th>\n",
       "      <th>date</th>\n",
       "      <th>price</th>\n",
       "      <th>bedrooms</th>\n",
       "      <th>bathrooms</th>\n",
       "      <th>sqft_living</th>\n",
       "      <th>sqft_lot</th>\n",
       "      <th>floors</th>\n",
       "      <th>waterfront</th>\n",
       "      <th>view</th>\n",
       "      <th>...</th>\n",
       "      <th>grade</th>\n",
       "      <th>sqft_above</th>\n",
       "      <th>sqft_basement</th>\n",
       "      <th>yr_built</th>\n",
       "      <th>yr_renovated</th>\n",
       "      <th>zipcode</th>\n",
       "      <th>lat</th>\n",
       "      <th>long</th>\n",
       "      <th>sqft_living15</th>\n",
       "      <th>sqft_lot15</th>\n",
       "    </tr>\n",
       "  </thead>\n",
       "  <tbody>\n",
       "    <tr>\n",
       "      <th>2496</th>\n",
       "      <td>1000102</td>\n",
       "      <td>2014-09-16</td>\n",
       "      <td>280000.0</td>\n",
       "      <td>6</td>\n",
       "      <td>3</td>\n",
       "      <td>2400</td>\n",
       "      <td>9373</td>\n",
       "      <td>2</td>\n",
       "      <td>0</td>\n",
       "      <td>0</td>\n",
       "      <td>...</td>\n",
       "      <td>7</td>\n",
       "      <td>2400</td>\n",
       "      <td>0</td>\n",
       "      <td>1991</td>\n",
       "      <td>0</td>\n",
       "      <td>98002</td>\n",
       "      <td>47.3262</td>\n",
       "      <td>-122.214</td>\n",
       "      <td>2060</td>\n",
       "      <td>7316</td>\n",
       "    </tr>\n",
       "    <tr>\n",
       "      <th>2497</th>\n",
       "      <td>1000102</td>\n",
       "      <td>2015-04-22</td>\n",
       "      <td>300000.0</td>\n",
       "      <td>6</td>\n",
       "      <td>3</td>\n",
       "      <td>2400</td>\n",
       "      <td>9373</td>\n",
       "      <td>2</td>\n",
       "      <td>0</td>\n",
       "      <td>0</td>\n",
       "      <td>...</td>\n",
       "      <td>7</td>\n",
       "      <td>2400</td>\n",
       "      <td>0</td>\n",
       "      <td>1991</td>\n",
       "      <td>0</td>\n",
       "      <td>98002</td>\n",
       "      <td>47.3262</td>\n",
       "      <td>-122.214</td>\n",
       "      <td>2060</td>\n",
       "      <td>7316</td>\n",
       "    </tr>\n",
       "    <tr>\n",
       "      <th>16814</th>\n",
       "      <td>7200179</td>\n",
       "      <td>2014-10-16</td>\n",
       "      <td>150000.0</td>\n",
       "      <td>2</td>\n",
       "      <td>1</td>\n",
       "      <td>840</td>\n",
       "      <td>12750</td>\n",
       "      <td>1</td>\n",
       "      <td>0</td>\n",
       "      <td>0</td>\n",
       "      <td>...</td>\n",
       "      <td>6</td>\n",
       "      <td>840</td>\n",
       "      <td>0</td>\n",
       "      <td>1925</td>\n",
       "      <td>0</td>\n",
       "      <td>98055</td>\n",
       "      <td>47.4840</td>\n",
       "      <td>-122.211</td>\n",
       "      <td>1480</td>\n",
       "      <td>6969</td>\n",
       "    </tr>\n",
       "    <tr>\n",
       "      <th>16815</th>\n",
       "      <td>7200179</td>\n",
       "      <td>2015-04-24</td>\n",
       "      <td>175000.0</td>\n",
       "      <td>2</td>\n",
       "      <td>1</td>\n",
       "      <td>840</td>\n",
       "      <td>12750</td>\n",
       "      <td>1</td>\n",
       "      <td>0</td>\n",
       "      <td>0</td>\n",
       "      <td>...</td>\n",
       "      <td>6</td>\n",
       "      <td>840</td>\n",
       "      <td>0</td>\n",
       "      <td>1925</td>\n",
       "      <td>0</td>\n",
       "      <td>98055</td>\n",
       "      <td>47.4840</td>\n",
       "      <td>-122.211</td>\n",
       "      <td>1480</td>\n",
       "      <td>6969</td>\n",
       "    </tr>\n",
       "    <tr>\n",
       "      <th>11433</th>\n",
       "      <td>109200390</td>\n",
       "      <td>2014-08-20</td>\n",
       "      <td>245000.0</td>\n",
       "      <td>3</td>\n",
       "      <td>1</td>\n",
       "      <td>1480</td>\n",
       "      <td>3900</td>\n",
       "      <td>1</td>\n",
       "      <td>0</td>\n",
       "      <td>0</td>\n",
       "      <td>...</td>\n",
       "      <td>7</td>\n",
       "      <td>1480</td>\n",
       "      <td>0</td>\n",
       "      <td>1980</td>\n",
       "      <td>0</td>\n",
       "      <td>98023</td>\n",
       "      <td>47.2977</td>\n",
       "      <td>-122.367</td>\n",
       "      <td>1830</td>\n",
       "      <td>6956</td>\n",
       "    </tr>\n",
       "  </tbody>\n",
       "</table>\n",
       "<p>5 rows × 21 columns</p>\n",
       "</div>"
      ],
      "text/plain": [
       "              id       date     price  bedrooms  bathrooms  sqft_living  \\\n",
       "2496     1000102 2014-09-16  280000.0         6          3         2400   \n",
       "2497     1000102 2015-04-22  300000.0         6          3         2400   \n",
       "16814    7200179 2014-10-16  150000.0         2          1          840   \n",
       "16815    7200179 2015-04-24  175000.0         2          1          840   \n",
       "11433  109200390 2014-08-20  245000.0         3          1         1480   \n",
       "\n",
       "       sqft_lot  floors  waterfront  view  ...  grade  sqft_above  \\\n",
       "2496       9373       2           0     0  ...      7        2400   \n",
       "2497       9373       2           0     0  ...      7        2400   \n",
       "16814     12750       1           0     0  ...      6         840   \n",
       "16815     12750       1           0     0  ...      6         840   \n",
       "11433      3900       1           0     0  ...      7        1480   \n",
       "\n",
       "       sqft_basement  yr_built  yr_renovated  zipcode      lat     long  \\\n",
       "2496               0      1991             0    98002  47.3262 -122.214   \n",
       "2497               0      1991             0    98002  47.3262 -122.214   \n",
       "16814              0      1925             0    98055  47.4840 -122.211   \n",
       "16815              0      1925             0    98055  47.4840 -122.211   \n",
       "11433              0      1980             0    98023  47.2977 -122.367   \n",
       "\n",
       "       sqft_living15  sqft_lot15  \n",
       "2496            2060        7316  \n",
       "2497            2060        7316  \n",
       "16814           1480        6969  \n",
       "16815           1480        6969  \n",
       "11433           1830        6956  \n",
       "\n",
       "[5 rows x 21 columns]"
      ]
     },
     "execution_count": 7,
     "metadata": {},
     "output_type": "execute_result"
    }
   ],
   "source": [
    "# ---------------- Exclusão de valores duplicados ------------- #\n",
    "data.loc[data['id'].duplicated(keep=False)].sort_values(['id','date']).head(5)"
   ]
  },
  {
   "cell_type": "code",
   "execution_count": 8,
   "id": "2d10224a",
   "metadata": {
    "ExecuteTime": {
     "end_time": "2022-07-28T21:30:06.977883Z",
     "start_time": "2022-07-28T21:30:06.962955Z"
    }
   },
   "outputs": [
    {
     "data": {
      "text/html": [
       "<div>\n",
       "<style scoped>\n",
       "    .dataframe tbody tr th:only-of-type {\n",
       "        vertical-align: middle;\n",
       "    }\n",
       "\n",
       "    .dataframe tbody tr th {\n",
       "        vertical-align: top;\n",
       "    }\n",
       "\n",
       "    .dataframe thead th {\n",
       "        text-align: right;\n",
       "    }\n",
       "</style>\n",
       "<table border=\"1\" class=\"dataframe\">\n",
       "  <thead>\n",
       "    <tr style=\"text-align: right;\">\n",
       "      <th></th>\n",
       "      <th>id</th>\n",
       "      <th>date</th>\n",
       "      <th>price</th>\n",
       "      <th>bedrooms</th>\n",
       "      <th>bathrooms</th>\n",
       "      <th>sqft_living</th>\n",
       "      <th>sqft_lot</th>\n",
       "      <th>floors</th>\n",
       "      <th>waterfront</th>\n",
       "      <th>view</th>\n",
       "      <th>...</th>\n",
       "      <th>grade</th>\n",
       "      <th>sqft_above</th>\n",
       "      <th>sqft_basement</th>\n",
       "      <th>yr_built</th>\n",
       "      <th>yr_renovated</th>\n",
       "      <th>zipcode</th>\n",
       "      <th>lat</th>\n",
       "      <th>long</th>\n",
       "      <th>sqft_living15</th>\n",
       "      <th>sqft_lot15</th>\n",
       "    </tr>\n",
       "  </thead>\n",
       "  <tbody>\n",
       "  </tbody>\n",
       "</table>\n",
       "<p>0 rows × 21 columns</p>\n",
       "</div>"
      ],
      "text/plain": [
       "Empty DataFrame\n",
       "Columns: [id, date, price, bedrooms, bathrooms, sqft_living, sqft_lot, floors, waterfront, view, condition, grade, sqft_above, sqft_basement, yr_built, yr_renovated, zipcode, lat, long, sqft_living15, sqft_lot15]\n",
       "Index: []\n",
       "\n",
       "[0 rows x 21 columns]"
      ]
     },
     "execution_count": 8,
     "metadata": {},
     "output_type": "execute_result"
    }
   ],
   "source": [
    "data = data.drop_duplicates(subset=['id'], keep='last')\n",
    "data.loc[data['id'].duplicated(keep=False)].sort_values(['id','date']).head(5)"
   ]
  },
  {
   "cell_type": "code",
   "execution_count": 9,
   "id": "2310d739",
   "metadata": {
    "ExecuteTime": {
     "end_time": "2022-07-28T21:30:07.023761Z",
     "start_time": "2022-07-28T21:30:07.010796Z"
    }
   },
   "outputs": [
    {
     "data": {
      "text/html": [
       "<div>\n",
       "<style scoped>\n",
       "    .dataframe tbody tr th:only-of-type {\n",
       "        vertical-align: middle;\n",
       "    }\n",
       "\n",
       "    .dataframe tbody tr th {\n",
       "        vertical-align: top;\n",
       "    }\n",
       "\n",
       "    .dataframe thead th {\n",
       "        text-align: right;\n",
       "    }\n",
       "</style>\n",
       "<table border=\"1\" class=\"dataframe\">\n",
       "  <thead>\n",
       "    <tr style=\"text-align: right;\">\n",
       "      <th></th>\n",
       "      <th>id</th>\n",
       "      <th>date</th>\n",
       "      <th>price</th>\n",
       "      <th>bedrooms</th>\n",
       "      <th>bathrooms</th>\n",
       "      <th>sqft_living</th>\n",
       "      <th>sqft_lot</th>\n",
       "      <th>floors</th>\n",
       "      <th>waterfront</th>\n",
       "      <th>view</th>\n",
       "      <th>...</th>\n",
       "      <th>grade</th>\n",
       "      <th>sqft_above</th>\n",
       "      <th>sqft_basement</th>\n",
       "      <th>yr_built</th>\n",
       "      <th>yr_renovated</th>\n",
       "      <th>zipcode</th>\n",
       "      <th>lat</th>\n",
       "      <th>long</th>\n",
       "      <th>sqft_living15</th>\n",
       "      <th>sqft_lot15</th>\n",
       "    </tr>\n",
       "  </thead>\n",
       "  <tbody>\n",
       "    <tr>\n",
       "      <th>15870</th>\n",
       "      <td>2402100895</td>\n",
       "      <td>2014-06-25</td>\n",
       "      <td>640000.0</td>\n",
       "      <td>33</td>\n",
       "      <td>1</td>\n",
       "      <td>1620</td>\n",
       "      <td>6000</td>\n",
       "      <td>1</td>\n",
       "      <td>0</td>\n",
       "      <td>0</td>\n",
       "      <td>...</td>\n",
       "      <td>7</td>\n",
       "      <td>1040</td>\n",
       "      <td>580</td>\n",
       "      <td>1947</td>\n",
       "      <td>0</td>\n",
       "      <td>98103</td>\n",
       "      <td>47.6878</td>\n",
       "      <td>-122.331</td>\n",
       "      <td>1330</td>\n",
       "      <td>4700</td>\n",
       "    </tr>\n",
       "  </tbody>\n",
       "</table>\n",
       "<p>1 rows × 21 columns</p>\n",
       "</div>"
      ],
      "text/plain": [
       "               id       date     price  bedrooms  bathrooms  sqft_living  \\\n",
       "15870  2402100895 2014-06-25  640000.0        33          1         1620   \n",
       "\n",
       "       sqft_lot  floors  waterfront  view  ...  grade  sqft_above  \\\n",
       "15870      6000       1           0     0  ...      7        1040   \n",
       "\n",
       "       sqft_basement  yr_built  yr_renovated  zipcode      lat     long  \\\n",
       "15870            580      1947             0    98103  47.6878 -122.331   \n",
       "\n",
       "       sqft_living15  sqft_lot15  \n",
       "15870           1330        4700  \n",
       "\n",
       "[1 rows x 21 columns]"
      ]
     },
     "execution_count": 9,
     "metadata": {},
     "output_type": "execute_result"
    }
   ],
   "source": [
    "# ------------------ Remoção de Outliers -------------- #\n",
    "data.loc[data['bedrooms']==33]"
   ]
  },
  {
   "cell_type": "code",
   "execution_count": 10,
   "id": "942f20b4",
   "metadata": {
    "ExecuteTime": {
     "end_time": "2022-07-28T21:30:07.070635Z",
     "start_time": "2022-07-28T21:30:07.062656Z"
    },
    "scrolled": true
   },
   "outputs": [],
   "source": [
    "# Analisando o tamanho da casa, considero que este valor de 33 quartos seja um outlier, sendo assim, \n",
    "# ele será excluido do Dataset.\n",
    "data = data.drop(15870)"
   ]
  },
  {
   "cell_type": "code",
   "execution_count": 11,
   "id": "8bfe53d3",
   "metadata": {
    "ExecuteTime": {
     "end_time": "2022-07-28T21:30:07.272609Z",
     "start_time": "2022-07-28T21:30:07.252120Z"
    }
   },
   "outputs": [
    {
     "data": {
      "text/html": [
       "<div>\n",
       "<style scoped>\n",
       "    .dataframe tbody tr th:only-of-type {\n",
       "        vertical-align: middle;\n",
       "    }\n",
       "\n",
       "    .dataframe tbody tr th {\n",
       "        vertical-align: top;\n",
       "    }\n",
       "\n",
       "    .dataframe thead th {\n",
       "        text-align: right;\n",
       "    }\n",
       "</style>\n",
       "<table border=\"1\" class=\"dataframe\">\n",
       "  <thead>\n",
       "    <tr style=\"text-align: right;\">\n",
       "      <th></th>\n",
       "      <th>sqft_living</th>\n",
       "      <th>m²_living</th>\n",
       "      <th>sqft_lot</th>\n",
       "      <th>m²_lot</th>\n",
       "    </tr>\n",
       "  </thead>\n",
       "  <tbody>\n",
       "    <tr>\n",
       "      <th>0</th>\n",
       "      <td>1180</td>\n",
       "      <td>109.622</td>\n",
       "      <td>5650</td>\n",
       "      <td>524.8850</td>\n",
       "    </tr>\n",
       "    <tr>\n",
       "      <th>1</th>\n",
       "      <td>2570</td>\n",
       "      <td>238.753</td>\n",
       "      <td>7242</td>\n",
       "      <td>672.7818</td>\n",
       "    </tr>\n",
       "    <tr>\n",
       "      <th>2</th>\n",
       "      <td>770</td>\n",
       "      <td>71.533</td>\n",
       "      <td>10000</td>\n",
       "      <td>929.0000</td>\n",
       "    </tr>\n",
       "    <tr>\n",
       "      <th>3</th>\n",
       "      <td>1960</td>\n",
       "      <td>182.084</td>\n",
       "      <td>5000</td>\n",
       "      <td>464.5000</td>\n",
       "    </tr>\n",
       "    <tr>\n",
       "      <th>4</th>\n",
       "      <td>1680</td>\n",
       "      <td>156.072</td>\n",
       "      <td>8080</td>\n",
       "      <td>750.6320</td>\n",
       "    </tr>\n",
       "    <tr>\n",
       "      <th>...</th>\n",
       "      <td>...</td>\n",
       "      <td>...</td>\n",
       "      <td>...</td>\n",
       "      <td>...</td>\n",
       "    </tr>\n",
       "    <tr>\n",
       "      <th>21608</th>\n",
       "      <td>1530</td>\n",
       "      <td>142.137</td>\n",
       "      <td>1131</td>\n",
       "      <td>105.0699</td>\n",
       "    </tr>\n",
       "    <tr>\n",
       "      <th>21609</th>\n",
       "      <td>2310</td>\n",
       "      <td>214.599</td>\n",
       "      <td>5813</td>\n",
       "      <td>540.0277</td>\n",
       "    </tr>\n",
       "    <tr>\n",
       "      <th>21610</th>\n",
       "      <td>1020</td>\n",
       "      <td>94.758</td>\n",
       "      <td>1350</td>\n",
       "      <td>125.4150</td>\n",
       "    </tr>\n",
       "    <tr>\n",
       "      <th>21611</th>\n",
       "      <td>1600</td>\n",
       "      <td>148.640</td>\n",
       "      <td>2388</td>\n",
       "      <td>221.8452</td>\n",
       "    </tr>\n",
       "    <tr>\n",
       "      <th>21612</th>\n",
       "      <td>1020</td>\n",
       "      <td>94.758</td>\n",
       "      <td>1076</td>\n",
       "      <td>99.9604</td>\n",
       "    </tr>\n",
       "  </tbody>\n",
       "</table>\n",
       "<p>21435 rows × 4 columns</p>\n",
       "</div>"
      ],
      "text/plain": [
       "       sqft_living  m²_living  sqft_lot    m²_lot\n",
       "0             1180    109.622      5650  524.8850\n",
       "1             2570    238.753      7242  672.7818\n",
       "2              770     71.533     10000  929.0000\n",
       "3             1960    182.084      5000  464.5000\n",
       "4             1680    156.072      8080  750.6320\n",
       "...            ...        ...       ...       ...\n",
       "21608         1530    142.137      1131  105.0699\n",
       "21609         2310    214.599      5813  540.0277\n",
       "21610         1020     94.758      1350  125.4150\n",
       "21611         1600    148.640      2388  221.8452\n",
       "21612         1020     94.758      1076   99.9604\n",
       "\n",
       "[21435 rows x 4 columns]"
      ]
     },
     "execution_count": 11,
     "metadata": {},
     "output_type": "execute_result"
    }
   ],
   "source": [
    "# --------------- Conversão de SQFT para m² --------------- #\n",
    "data['m²_living'] = data['sqft_living']*0.0929\n",
    "data['m²_lot'] = data['sqft_lot']*0.0929\n",
    "\n",
    "data[['sqft_living','m²_living','sqft_lot','m²_lot']]"
   ]
  },
  {
   "cell_type": "markdown",
   "id": "287f4ef1",
   "metadata": {},
   "source": [
    "# Criação de features"
   ]
  },
  {
   "cell_type": "code",
   "execution_count": 12,
   "id": "9aecbeb4",
   "metadata": {
    "ExecuteTime": {
     "end_time": "2022-07-28T21:30:07.673827Z",
     "start_time": "2022-07-28T21:30:07.615538Z"
    }
   },
   "outputs": [],
   "source": [
    "# -------- Feature para descrever a condição da casa -------- #\n",
    "data['condition_type'] = data['condition'].apply(lambda x: 'Ruim' if x <= 2\n",
    "                                                 else 'Regular' if (x == 3)|(x == 4)\n",
    "                                                 else 'Boa')\n",
    "\n",
    "# -------- Feature para descrever o tipo de vista -------- #\n",
    "data['view_type'] = data['view'].apply(lambda x: 'Ruim' if x <= 2\n",
    "                                       else 'Boa')\n",
    "\n",
    "# -------- Feature para ordenar o ano de construção -------- #\n",
    "data['built'] = data['yr_built'].apply(lambda x: 'Anterior à 1970' if x < 1970\n",
    "                                       else 'Depois de 1970')\n",
    "\n",
    "# -------- Feature para identificar imóveis com e sem porão -------- #\n",
    "data['basement'] = data['sqft_basement'].apply(lambda x: 'Com Porão' if x > 0\n",
    "                                               else 'Sem Porão')\n",
    "\n",
    "# -------- Feature para identificar imóveis reformados e não reformados -------- #\n",
    "data['renovated'] = data['yr_renovated'].apply(lambda x: 'Reformado' if x > 0\n",
    "                                               else 'Não reformado')\n",
    "\n",
    "# -------- Feature para identificar imóveis com mais ou menos de 100 m² -------- #\n",
    "data['footage'] = data['m²_lot'].apply(lambda x: 'Menor que 100m²' if x < 100\n",
    "                                               else 'Maior que 100m²')\n",
    "\n",
    "# -------- Feature para identificar se o imóvel tem mais ou menos de 3 quartos -------- #\n",
    "data['number_bedrooms'] = data['bedrooms'].apply(lambda x: 'Com 2 ou menos quartos' if x <= 2 \n",
    "                                             else 'Mais de 3 quartos')\n",
    "\n",
    "# -------- Feature para identificar o nível do imóvel de acordo com o valor -------- #\n",
    "data['level'] = data['price'].apply(lambda x: 'Padrão Baixo' if x < 400000 \n",
    "                                    else      'Padrão Medio' if 40000 <= x <= 650000 \n",
    "                                    else      'Padrão Alto')\n",
    "\n",
    "# -------- Feature para segmentar por mês e ano -------- #\n",
    "data['month'] = data['date'].dt.month\n",
    "data['year'] = data['date'].dt.year\n",
    "\n",
    "# -------- Feature para segmentar por estações do ano (sazonalidade) -------- #\n",
    "data['season'] = data['month'].apply(lambda x: 'Spring' if 3 <= x <= 5 else\n",
    "                                               'Summer' if 6 <= x <= 8 else\n",
    "                                               'Autumn' if 9 <= x <= 11 else\n",
    "                                               'Winter')"
   ]
  },
  {
   "cell_type": "code",
   "execution_count": 13,
   "id": "2f4167b5",
   "metadata": {
    "ExecuteTime": {
     "end_time": "2022-07-28T21:30:07.828927Z",
     "start_time": "2022-07-28T21:30:07.797903Z"
    },
    "scrolled": true
   },
   "outputs": [
    {
     "data": {
      "text/html": [
       "<div>\n",
       "<style scoped>\n",
       "    .dataframe tbody tr th:only-of-type {\n",
       "        vertical-align: middle;\n",
       "    }\n",
       "\n",
       "    .dataframe tbody tr th {\n",
       "        vertical-align: top;\n",
       "    }\n",
       "\n",
       "    .dataframe thead th {\n",
       "        text-align: right;\n",
       "    }\n",
       "</style>\n",
       "<table border=\"1\" class=\"dataframe\">\n",
       "  <thead>\n",
       "    <tr style=\"text-align: right;\">\n",
       "      <th></th>\n",
       "      <th>condition_type</th>\n",
       "      <th>view_type</th>\n",
       "      <th>built</th>\n",
       "      <th>basement</th>\n",
       "      <th>renovated</th>\n",
       "      <th>footage</th>\n",
       "      <th>number_bedrooms</th>\n",
       "      <th>month</th>\n",
       "      <th>year</th>\n",
       "      <th>season</th>\n",
       "      <th>price</th>\n",
       "      <th>level</th>\n",
       "    </tr>\n",
       "  </thead>\n",
       "  <tbody>\n",
       "    <tr>\n",
       "      <th>0</th>\n",
       "      <td>Regular</td>\n",
       "      <td>Ruim</td>\n",
       "      <td>Anterior à 1970</td>\n",
       "      <td>Sem Porão</td>\n",
       "      <td>Não reformado</td>\n",
       "      <td>Maior que 100m²</td>\n",
       "      <td>Mais de 3 quartos</td>\n",
       "      <td>10</td>\n",
       "      <td>2014</td>\n",
       "      <td>Autumn</td>\n",
       "      <td>221900.0</td>\n",
       "      <td>Padrão Baixo</td>\n",
       "    </tr>\n",
       "    <tr>\n",
       "      <th>1</th>\n",
       "      <td>Regular</td>\n",
       "      <td>Ruim</td>\n",
       "      <td>Anterior à 1970</td>\n",
       "      <td>Com Porão</td>\n",
       "      <td>Reformado</td>\n",
       "      <td>Maior que 100m²</td>\n",
       "      <td>Mais de 3 quartos</td>\n",
       "      <td>12</td>\n",
       "      <td>2014</td>\n",
       "      <td>Winter</td>\n",
       "      <td>538000.0</td>\n",
       "      <td>Padrão Medio</td>\n",
       "    </tr>\n",
       "    <tr>\n",
       "      <th>2</th>\n",
       "      <td>Regular</td>\n",
       "      <td>Ruim</td>\n",
       "      <td>Anterior à 1970</td>\n",
       "      <td>Sem Porão</td>\n",
       "      <td>Não reformado</td>\n",
       "      <td>Maior que 100m²</td>\n",
       "      <td>Com 2 ou menos quartos</td>\n",
       "      <td>2</td>\n",
       "      <td>2015</td>\n",
       "      <td>Winter</td>\n",
       "      <td>180000.0</td>\n",
       "      <td>Padrão Baixo</td>\n",
       "    </tr>\n",
       "    <tr>\n",
       "      <th>3</th>\n",
       "      <td>Boa</td>\n",
       "      <td>Ruim</td>\n",
       "      <td>Anterior à 1970</td>\n",
       "      <td>Com Porão</td>\n",
       "      <td>Não reformado</td>\n",
       "      <td>Maior que 100m²</td>\n",
       "      <td>Mais de 3 quartos</td>\n",
       "      <td>12</td>\n",
       "      <td>2014</td>\n",
       "      <td>Winter</td>\n",
       "      <td>604000.0</td>\n",
       "      <td>Padrão Medio</td>\n",
       "    </tr>\n",
       "    <tr>\n",
       "      <th>4</th>\n",
       "      <td>Regular</td>\n",
       "      <td>Ruim</td>\n",
       "      <td>Depois de 1970</td>\n",
       "      <td>Sem Porão</td>\n",
       "      <td>Não reformado</td>\n",
       "      <td>Maior que 100m²</td>\n",
       "      <td>Mais de 3 quartos</td>\n",
       "      <td>2</td>\n",
       "      <td>2015</td>\n",
       "      <td>Winter</td>\n",
       "      <td>510000.0</td>\n",
       "      <td>Padrão Medio</td>\n",
       "    </tr>\n",
       "    <tr>\n",
       "      <th>...</th>\n",
       "      <td>...</td>\n",
       "      <td>...</td>\n",
       "      <td>...</td>\n",
       "      <td>...</td>\n",
       "      <td>...</td>\n",
       "      <td>...</td>\n",
       "      <td>...</td>\n",
       "      <td>...</td>\n",
       "      <td>...</td>\n",
       "      <td>...</td>\n",
       "      <td>...</td>\n",
       "      <td>...</td>\n",
       "    </tr>\n",
       "    <tr>\n",
       "      <th>21608</th>\n",
       "      <td>Regular</td>\n",
       "      <td>Ruim</td>\n",
       "      <td>Depois de 1970</td>\n",
       "      <td>Sem Porão</td>\n",
       "      <td>Não reformado</td>\n",
       "      <td>Maior que 100m²</td>\n",
       "      <td>Mais de 3 quartos</td>\n",
       "      <td>5</td>\n",
       "      <td>2014</td>\n",
       "      <td>Spring</td>\n",
       "      <td>360000.0</td>\n",
       "      <td>Padrão Baixo</td>\n",
       "    </tr>\n",
       "    <tr>\n",
       "      <th>21609</th>\n",
       "      <td>Regular</td>\n",
       "      <td>Ruim</td>\n",
       "      <td>Depois de 1970</td>\n",
       "      <td>Sem Porão</td>\n",
       "      <td>Não reformado</td>\n",
       "      <td>Maior que 100m²</td>\n",
       "      <td>Mais de 3 quartos</td>\n",
       "      <td>2</td>\n",
       "      <td>2015</td>\n",
       "      <td>Winter</td>\n",
       "      <td>400000.0</td>\n",
       "      <td>Padrão Medio</td>\n",
       "    </tr>\n",
       "    <tr>\n",
       "      <th>21610</th>\n",
       "      <td>Regular</td>\n",
       "      <td>Ruim</td>\n",
       "      <td>Depois de 1970</td>\n",
       "      <td>Sem Porão</td>\n",
       "      <td>Não reformado</td>\n",
       "      <td>Maior que 100m²</td>\n",
       "      <td>Com 2 ou menos quartos</td>\n",
       "      <td>6</td>\n",
       "      <td>2014</td>\n",
       "      <td>Summer</td>\n",
       "      <td>402101.0</td>\n",
       "      <td>Padrão Medio</td>\n",
       "    </tr>\n",
       "    <tr>\n",
       "      <th>21611</th>\n",
       "      <td>Regular</td>\n",
       "      <td>Ruim</td>\n",
       "      <td>Depois de 1970</td>\n",
       "      <td>Sem Porão</td>\n",
       "      <td>Não reformado</td>\n",
       "      <td>Maior que 100m²</td>\n",
       "      <td>Mais de 3 quartos</td>\n",
       "      <td>1</td>\n",
       "      <td>2015</td>\n",
       "      <td>Winter</td>\n",
       "      <td>400000.0</td>\n",
       "      <td>Padrão Medio</td>\n",
       "    </tr>\n",
       "    <tr>\n",
       "      <th>21612</th>\n",
       "      <td>Regular</td>\n",
       "      <td>Ruim</td>\n",
       "      <td>Depois de 1970</td>\n",
       "      <td>Sem Porão</td>\n",
       "      <td>Não reformado</td>\n",
       "      <td>Menor que 100m²</td>\n",
       "      <td>Com 2 ou menos quartos</td>\n",
       "      <td>10</td>\n",
       "      <td>2014</td>\n",
       "      <td>Autumn</td>\n",
       "      <td>325000.0</td>\n",
       "      <td>Padrão Baixo</td>\n",
       "    </tr>\n",
       "  </tbody>\n",
       "</table>\n",
       "<p>21435 rows × 12 columns</p>\n",
       "</div>"
      ],
      "text/plain": [
       "      condition_type view_type            built   basement      renovated  \\\n",
       "0            Regular      Ruim  Anterior à 1970  Sem Porão  Não reformado   \n",
       "1            Regular      Ruim  Anterior à 1970  Com Porão      Reformado   \n",
       "2            Regular      Ruim  Anterior à 1970  Sem Porão  Não reformado   \n",
       "3                Boa      Ruim  Anterior à 1970  Com Porão  Não reformado   \n",
       "4            Regular      Ruim   Depois de 1970  Sem Porão  Não reformado   \n",
       "...              ...       ...              ...        ...            ...   \n",
       "21608        Regular      Ruim   Depois de 1970  Sem Porão  Não reformado   \n",
       "21609        Regular      Ruim   Depois de 1970  Sem Porão  Não reformado   \n",
       "21610        Regular      Ruim   Depois de 1970  Sem Porão  Não reformado   \n",
       "21611        Regular      Ruim   Depois de 1970  Sem Porão  Não reformado   \n",
       "21612        Regular      Ruim   Depois de 1970  Sem Porão  Não reformado   \n",
       "\n",
       "               footage         number_bedrooms  month  year  season     price  \\\n",
       "0      Maior que 100m²       Mais de 3 quartos     10  2014  Autumn  221900.0   \n",
       "1      Maior que 100m²       Mais de 3 quartos     12  2014  Winter  538000.0   \n",
       "2      Maior que 100m²  Com 2 ou menos quartos      2  2015  Winter  180000.0   \n",
       "3      Maior que 100m²       Mais de 3 quartos     12  2014  Winter  604000.0   \n",
       "4      Maior que 100m²       Mais de 3 quartos      2  2015  Winter  510000.0   \n",
       "...                ...                     ...    ...   ...     ...       ...   \n",
       "21608  Maior que 100m²       Mais de 3 quartos      5  2014  Spring  360000.0   \n",
       "21609  Maior que 100m²       Mais de 3 quartos      2  2015  Winter  400000.0   \n",
       "21610  Maior que 100m²  Com 2 ou menos quartos      6  2014  Summer  402101.0   \n",
       "21611  Maior que 100m²       Mais de 3 quartos      1  2015  Winter  400000.0   \n",
       "21612  Menor que 100m²  Com 2 ou menos quartos     10  2014  Autumn  325000.0   \n",
       "\n",
       "              level  \n",
       "0      Padrão Baixo  \n",
       "1      Padrão Medio  \n",
       "2      Padrão Baixo  \n",
       "3      Padrão Medio  \n",
       "4      Padrão Medio  \n",
       "...             ...  \n",
       "21608  Padrão Baixo  \n",
       "21609  Padrão Medio  \n",
       "21610  Padrão Medio  \n",
       "21611  Padrão Medio  \n",
       "21612  Padrão Baixo  \n",
       "\n",
       "[21435 rows x 12 columns]"
      ]
     },
     "execution_count": 13,
     "metadata": {},
     "output_type": "execute_result"
    }
   ],
   "source": [
    "# ---------- Visualização das features criadas -------- #\n",
    "data[['condition_type', 'view_type', 'built', 'basement', 'renovated', \n",
    "      'footage', 'number_bedrooms', 'month', 'year', 'season', 'price','level']]"
   ]
  },
  {
   "cell_type": "markdown",
   "id": "273716e2",
   "metadata": {},
   "source": [
    "# Estatísticas"
   ]
  },
  {
   "cell_type": "code",
   "execution_count": 14,
   "id": "5c6ef8d2",
   "metadata": {
    "ExecuteTime": {
     "end_time": "2022-07-28T21:30:08.571111Z",
     "start_time": "2022-07-28T21:30:08.158792Z"
    }
   },
   "outputs": [
    {
     "name": "stderr",
     "output_type": "stream",
     "text": [
      "C:\\Users\\User\\AppData\\Local\\Temp\\ipykernel_540\\2372011596.py:3: UserWarning: Pandas doesn't allow columns to be created via a new attribute name - see https://pandas.pydata.org/pandas-docs/stable/indexing.html#attribute-access\n",
      "  data.statistic = pd.DataFrame(estat.describe().T)\n"
     ]
    },
    {
     "data": {
      "text/html": [
       "<div>\n",
       "<style scoped>\n",
       "    .dataframe tbody tr th:only-of-type {\n",
       "        vertical-align: middle;\n",
       "    }\n",
       "\n",
       "    .dataframe tbody tr th {\n",
       "        vertical-align: top;\n",
       "    }\n",
       "\n",
       "    .dataframe thead th {\n",
       "        text-align: right;\n",
       "    }\n",
       "</style>\n",
       "<table border=\"1\" class=\"dataframe\">\n",
       "  <thead>\n",
       "    <tr style=\"text-align: right;\">\n",
       "      <th></th>\n",
       "      <th>count</th>\n",
       "      <th>mean</th>\n",
       "      <th>std</th>\n",
       "      <th>min</th>\n",
       "      <th>25%</th>\n",
       "      <th>50%</th>\n",
       "      <th>75%</th>\n",
       "      <th>max</th>\n",
       "    </tr>\n",
       "  </thead>\n",
       "  <tbody>\n",
       "    <tr>\n",
       "      <th>price</th>\n",
       "      <td>21435.0</td>\n",
       "      <td>541645.374434</td>\n",
       "      <td>367322.883495</td>\n",
       "      <td>75000.000</td>\n",
       "      <td>324844.000</td>\n",
       "      <td>450000.0000</td>\n",
       "      <td>645000.00000</td>\n",
       "      <td>7.700000e+06</td>\n",
       "    </tr>\n",
       "    <tr>\n",
       "      <th>bedrooms</th>\n",
       "      <td>21435.0</td>\n",
       "      <td>3.370189</td>\n",
       "      <td>0.906920</td>\n",
       "      <td>0.000</td>\n",
       "      <td>3.000</td>\n",
       "      <td>3.0000</td>\n",
       "      <td>4.00000</td>\n",
       "      <td>1.100000e+01</td>\n",
       "    </tr>\n",
       "    <tr>\n",
       "      <th>bathrooms</th>\n",
       "      <td>21435.0</td>\n",
       "      <td>1.751714</td>\n",
       "      <td>0.734855</td>\n",
       "      <td>0.000</td>\n",
       "      <td>1.000</td>\n",
       "      <td>2.0000</td>\n",
       "      <td>2.00000</td>\n",
       "      <td>8.000000e+00</td>\n",
       "    </tr>\n",
       "    <tr>\n",
       "      <th>floors</th>\n",
       "      <td>21435.0</td>\n",
       "      <td>1.448239</td>\n",
       "      <td>0.552350</td>\n",
       "      <td>1.000</td>\n",
       "      <td>1.000</td>\n",
       "      <td>1.0000</td>\n",
       "      <td>2.00000</td>\n",
       "      <td>3.000000e+00</td>\n",
       "    </tr>\n",
       "    <tr>\n",
       "      <th>m²_living</th>\n",
       "      <td>21435.0</td>\n",
       "      <td>193.485294</td>\n",
       "      <td>85.390194</td>\n",
       "      <td>26.941</td>\n",
       "      <td>132.847</td>\n",
       "      <td>178.3680</td>\n",
       "      <td>236.89500</td>\n",
       "      <td>1.257866e+03</td>\n",
       "    </tr>\n",
       "    <tr>\n",
       "      <th>m²_lot</th>\n",
       "      <td>21435.0</td>\n",
       "      <td>1406.140351</td>\n",
       "      <td>3859.023518</td>\n",
       "      <td>48.308</td>\n",
       "      <td>468.216</td>\n",
       "      <td>707.3406</td>\n",
       "      <td>993.70485</td>\n",
       "      <td>1.534113e+05</td>\n",
       "    </tr>\n",
       "  </tbody>\n",
       "</table>\n",
       "</div>"
      ],
      "text/plain": [
       "             count           mean            std        min         25%  \\\n",
       "price      21435.0  541645.374434  367322.883495  75000.000  324844.000   \n",
       "bedrooms   21435.0       3.370189       0.906920      0.000       3.000   \n",
       "bathrooms  21435.0       1.751714       0.734855      0.000       1.000   \n",
       "floors     21435.0       1.448239       0.552350      1.000       1.000   \n",
       "m²_living  21435.0     193.485294      85.390194     26.941     132.847   \n",
       "m²_lot     21435.0    1406.140351    3859.023518     48.308     468.216   \n",
       "\n",
       "                   50%           75%           max  \n",
       "price      450000.0000  645000.00000  7.700000e+06  \n",
       "bedrooms        3.0000       4.00000  1.100000e+01  \n",
       "bathrooms       2.0000       2.00000  8.000000e+00  \n",
       "floors          1.0000       2.00000  3.000000e+00  \n",
       "m²_living     178.3680     236.89500  1.257866e+03  \n",
       "m²_lot        707.3406     993.70485  1.534113e+05  "
      ]
     },
     "execution_count": 14,
     "metadata": {},
     "output_type": "execute_result"
    }
   ],
   "source": [
    "estat = data[['price', 'bedrooms', 'bathrooms', 'floors', 'm²_living', 'm²_lot']]\n",
    "\n",
    "data.statistic = pd.DataFrame(estat.describe().T)\n",
    "\n",
    "data.statistic"
   ]
  },
  {
   "cell_type": "code",
   "execution_count": 15,
   "id": "096b23b7",
   "metadata": {
    "ExecuteTime": {
     "end_time": "2022-07-28T21:30:09.929342Z",
     "start_time": "2022-07-28T21:30:08.634283Z"
    }
   },
   "outputs": [
    {
     "data": {
      "image/png": "[encoded data removed]",
      "text/plain": [
       "<Figure size 1800x1800 with 12 Axes>"
      ]
     },
     "metadata": {
      "needs_background": "light"
     },
     "output_type": "display_data"
    }
   ],
   "source": [
    "# -------------- Visualização de Histogramas ---------------- #\n",
    "df = data[['price', 'bedrooms', 'bathrooms', 'floors', 'waterfront', 'view', \n",
    "           'condition', 'yr_built', 'yr_renovated', 'm²_living', 'm²_lot', 'year',]]\n",
    "df.hist(figsize=(25,25));"
   ]
  },
  {
   "cell_type": "markdown",
   "id": "90eeafd3",
   "metadata": {},
   "source": [
    "# Hipóteses de negócio para geração de Insights"
   ]
  },
  {
   "cell_type": "markdown",
   "id": "9429b75d",
   "metadata": {},
   "source": [
    "# H1 - Imóveis com vista para a água são, em média, 30% mais caros."
   ]
  },
  {
   "cell_type": "markdown",
   "id": "99146765",
   "metadata": {
    "ExecuteTime": {
     "end_time": "2022-07-18T23:49:17.650661Z",
     "start_time": "2022-07-18T23:49:17.633736Z"
    }
   },
   "source": [
    "Falso. Imóveis com vista para a água são, em média 211.76% mais caros."
   ]
  },
  {
   "cell_type": "code",
   "execution_count": 17,
   "id": "38e2ec99",
   "metadata": {
    "ExecuteTime": {
     "end_time": "2022-07-28T21:30:11.724750Z",
     "start_time": "2022-07-28T21:30:11.462311Z"
    },
    "scrolled": true
   },
   "outputs": [
    {
     "name": "stdout",
     "output_type": "stream",
     "text": [
      "Imóveis com vista para a água são, em média, 211.76% mais caros.\n"
     ]
    },
    {
     "data": {
      "image/png": "[encoded data removed]",
      "text/plain": [
       "<Figure size 432x288 with 1 Axes>"
      ]
     },
     "metadata": {
      "needs_background": "light"
     },
     "output_type": "display_data"
    }
   ],
   "source": [
    "h1 = data[['price', 'waterfront']].groupby('waterfront').mean().reset_index()\n",
    "\n",
    "sns.barplot(x='waterfront', y='price', data = h1)\n",
    "\n",
    "h1_percentual = (h1.loc[1,'price'] / h1.loc[0,'price'] -1) * 100\n",
    "print(f'Imóveis com vista para a água são, em média, {h1_percentual:.2f}% mais caros.')"
   ]
  },
  {
   "cell_type": "markdown",
   "id": "cbb6739e",
   "metadata": {
    "ExecuteTime": {
     "end_time": "2022-07-18T02:29:25.152882Z",
     "start_time": "2022-07-18T02:29:25.147896Z"
    }
   },
   "source": [
    "# H2 - Imóveis com data de construção menor que 1970, são 50% mais baratos, na média."
   ]
  },
  {
   "cell_type": "markdown",
   "id": "dc4bc9cc",
   "metadata": {
    "ExecuteTime": {
     "end_time": "2022-07-19T00:39:44.375881Z",
     "start_time": "2022-07-19T00:39:44.356961Z"
    }
   },
   "source": [
    "Falso. Imóveis com data de construção inferior a 1970 são, em média, 11.83% mais baratos."
   ]
  },
  {
   "cell_type": "code",
   "execution_count": 18,
   "id": "7dcb0a1b",
   "metadata": {
    "ExecuteTime": {
     "end_time": "2022-07-28T21:30:11.895294Z",
     "start_time": "2022-07-28T21:30:11.819497Z"
    }
   },
   "outputs": [
    {
     "name": "stdout",
     "output_type": "stream",
     "text": [
      "Imóveis com data de construção inferior a 1970 são, em média, 11.83% mais baratos.\n"
     ]
    },
    {
     "data": {
      "image/png": "[encoded data removed]",
      "text/plain": [
       "<Figure size 432x288 with 1 Axes>"
      ]
     },
     "metadata": {
      "needs_background": "light"
     },
     "output_type": "display_data"
    }
   ],
   "source": [
    "h2 = data[['price', 'built']].groupby('built').mean().reset_index()\n",
    "\n",
    "sns.barplot(x='built', y='price', data = h2)\n",
    "\n",
    "h2_percentual = (h2.loc[1,'price'] / h2.loc[0,'price'] -1) * 100\n",
    "print(f'Imóveis com data de construção inferior a 1970 são, em média, {h2_percentual:.2f}% mais baratos.')"
   ]
  },
  {
   "cell_type": "markdown",
   "id": "2d70d632",
   "metadata": {
    "ExecuteTime": {
     "end_time": "2022-07-18T02:30:13.282855Z",
     "start_time": "2022-07-18T02:30:13.267234Z"
    }
   },
   "source": [
    "# H3 - Imóveis sem porão possuem área total, em média, 50% maior do que imóveis com porão."
   ]
  },
  {
   "cell_type": "markdown",
   "id": "736ec008",
   "metadata": {},
   "source": [
    "Falso. Imóveis sem porão possuem área total, em média, 22.78% maior do imóveis com porão."
   ]
  },
  {
   "cell_type": "code",
   "execution_count": 19,
   "id": "16510c93",
   "metadata": {
    "ExecuteTime": {
     "end_time": "2022-07-28T21:30:12.852285Z",
     "start_time": "2022-07-28T21:30:12.777151Z"
    }
   },
   "outputs": [
    {
     "name": "stdout",
     "output_type": "stream",
     "text": [
      "Imóveis sem porão possuem área total, em média, 22.78% maior do imóveis com porão.\n"
     ]
    },
    {
     "data": {
      "image/png": "[encoded data removed]",
      "text/plain": [
       "<Figure size 432x288 with 1 Axes>"
      ]
     },
     "metadata": {
      "needs_background": "light"
     },
     "output_type": "display_data"
    }
   ],
   "source": [
    "h3 = data[['basement', 'm²_lot']].groupby('basement').mean().reset_index()\n",
    "\n",
    "sns.barplot(x='basement', y='m²_lot', data = h3)\n",
    "\n",
    "h3_percentual = (h3.loc[1,'m²_lot'] / h3.loc[0,'m²_lot'] -1) * 100\n",
    "print(f'Imóveis sem porão possuem área total, em média, {h3_percentual:.2f}% maior do imóveis com porão.')"
   ]
  },
  {
   "cell_type": "markdown",
   "id": "38c0e579",
   "metadata": {
    "ExecuteTime": {
     "end_time": "2022-07-18T02:31:03.900780Z",
     "start_time": "2022-07-18T02:31:03.884052Z"
    }
   },
   "source": [
    "# H4 - O crescimento do preço dos imóveis YoY (Ano a Ano) é de 10%."
   ]
  },
  {
   "cell_type": "markdown",
   "id": "4f9870f7",
   "metadata": {},
   "source": [
    "Falso. O crescimento do preço dos imóveis YoY (Ano a Ano) é de 0.05%."
   ]
  },
  {
   "cell_type": "code",
   "execution_count": 73,
   "id": "823a6342",
   "metadata": {
    "ExecuteTime": {
     "end_time": "2022-07-25T06:43:35.690843Z",
     "start_time": "2022-07-25T06:43:35.620208Z"
    }
   },
   "outputs": [
    {
     "name": "stdout",
     "output_type": "stream",
     "text": [
      "O crescimento do preço dos imóveis YoY (Ano a Ano) é de 0.05%.\n"
     ]
    },
    {
     "data": {
      "image/png": "[encoded data removed]",
      "text/plain": [
       "<Figure size 432x288 with 1 Axes>"
      ]
     },
     "metadata": {
      "needs_background": "light"
     },
     "output_type": "display_data"
    }
   ],
   "source": [
    "h4 = data[['price', 'year']].groupby('year').mean().reset_index()\n",
    "\n",
    "sns.barplot(x='year', y='price', data = h4)\n",
    "\n",
    "h4_percentual = (h4.loc[1,'year'] / h4.loc[0,'year'] -1) * 100\n",
    "print(f'O crescimento do preço dos imóveis YoY (Ano a Ano) é de {h4_percentual:.2f}%.')"
   ]
  },
  {
   "cell_type": "markdown",
   "id": "9d0ae719",
   "metadata": {
    "ExecuteTime": {
     "end_time": "2022-07-18T02:31:33.863171Z",
     "start_time": "2022-07-18T02:31:33.853198Z"
    }
   },
   "source": [
    "# H5 - O crescimento do preço dos imóveis MoM (Mês a Mês) é de 15%."
   ]
  },
  {
   "cell_type": "markdown",
   "id": "8721b6d2",
   "metadata": {},
   "source": [
    "Falso. O crescimento do preço dos imóveis MoM (Mês a Mês) é de 23.51%."
   ]
  },
  {
   "cell_type": "code",
   "execution_count": 74,
   "id": "e8f9c54a",
   "metadata": {
    "ExecuteTime": {
     "end_time": "2022-07-25T06:43:37.021007Z",
     "start_time": "2022-07-25T06:43:36.920246Z"
    }
   },
   "outputs": [
    {
     "name": "stdout",
     "output_type": "stream",
     "text": [
      "O crescimento do preço dos imóveis MoM (Mês a Mês) é de 23.51%.\n"
     ]
    },
    {
     "data": {
      "image/png": "[encoded data removed]",
      "text/plain": [
       "<Figure size 432x288 with 1 Axes>"
      ]
     },
     "metadata": {
      "needs_background": "light"
     },
     "output_type": "display_data"
    }
   ],
   "source": [
    "h5 = data[['price', 'month']].groupby('month').sum().reset_index()\n",
    "\n",
    "sns.lineplot(x='month', y='price', data = h5)\n",
    "\n",
    "h5_percentual = (h5.loc[1,'price'] / h5.loc[0,'price'] -1) * 100\n",
    "print(f'O crescimento do preço dos imóveis MoM (Mês a Mês) é de {h5_percentual:.2f}%.')"
   ]
  },
  {
   "cell_type": "markdown",
   "id": "1396c526",
   "metadata": {
    "ExecuteTime": {
     "end_time": "2022-07-18T02:32:16.968190Z",
     "start_time": "2022-07-18T02:32:16.956224Z"
    }
   },
   "source": [
    "# H6 - Imóveis com condição BOA e REGULAR vendem mais do que imóveis com condição RUIM."
   ]
  },
  {
   "cell_type": "markdown",
   "id": "0d6e48fa",
   "metadata": {},
   "source": [
    "Verdadeiro. Como podemos observar no gráfico, imóveis com condição BOA vendem 14,06% a mais do que os com condição REGULAR. \n",
    "Os imóveis com condição REGULAR vendem, em média, 60.74% a mais do que os com condição RUIM."
   ]
  },
  {
   "cell_type": "code",
   "execution_count": 75,
   "id": "9765bca6",
   "metadata": {
    "ExecuteTime": {
     "end_time": "2022-07-25T06:43:38.413839Z",
     "start_time": "2022-07-25T06:43:38.322057Z"
    }
   },
   "outputs": [
    {
     "name": "stdout",
     "output_type": "stream",
     "text": [
      "Imóveis com condição BOA, vendem 14.06% a mais do que imóveis com condição REGULAR.\n",
      "Imóveis com condição REGULAR, vendem 60.74% a mais do que imóveis com condição RUIM.\n"
     ]
    },
    {
     "data": {
      "image/png": "[encoded data removed]",
      "text/plain": [
       "<Figure size 432x288 with 1 Axes>"
      ]
     },
     "metadata": {
      "needs_background": "light"
     },
     "output_type": "display_data"
    }
   ],
   "source": [
    "h6 = data[['condition_type', 'price']].groupby('condition_type').mean().reset_index()\n",
    "\n",
    "sns.barplot(x='condition_type', y='price', data = h6)\n",
    "\n",
    "h6_percentual1 = (h6.loc[0,'price'] / h6.loc[1,'price'] -1) * 100\n",
    "print(f'Imóveis com condição BOA, vendem {h6_percentual1:.2f}% a mais do que imóveis com condição REGULAR.')\n",
    "\n",
    "h6_percentual2 = (h6.loc[1,'price'] / h6.loc[2,'price'] -1) * 100\n",
    "print(f'Imóveis com condição REGULAR, vendem {h6_percentual2:.2f}% a mais do que imóveis com condição RUIM.')"
   ]
  },
  {
   "cell_type": "markdown",
   "id": "3c651d85",
   "metadata": {},
   "source": [
    "# H7 - Imóveis com vista para a água são, em média, 25% maiores."
   ]
  },
  {
   "cell_type": "markdown",
   "id": "668c6116",
   "metadata": {},
   "source": [
    "Falso. Imóveis com vista para a água são, em média, 68.50% maior do que imóveis sem vista para a água."
   ]
  },
  {
   "cell_type": "code",
   "execution_count": 76,
   "id": "33abd55b",
   "metadata": {
    "ExecuteTime": {
     "end_time": "2022-07-25T06:43:39.772260Z",
     "start_time": "2022-07-25T06:43:39.697802Z"
    }
   },
   "outputs": [
    {
     "name": "stdout",
     "output_type": "stream",
     "text": [
      "Imóveis com vista para a água são, em média, 68.50% maior do que imóveis sem vista para a água.\n"
     ]
    },
    {
     "data": {
      "image/png": "[encoded data removed]",
      "text/plain": [
       "<Figure size 432x288 with 1 Axes>"
      ]
     },
     "metadata": {
      "needs_background": "light"
     },
     "output_type": "display_data"
    }
   ],
   "source": [
    "h7 = data[['m²_lot', 'waterfront']].groupby('waterfront').mean().reset_index()\n",
    "\n",
    "sns.barplot(x='waterfront', y='m²_lot', data = h7)\n",
    "\n",
    "h7_percentual = (h7.loc[1,'m²_lot'] / h7.loc[0,'m²_lot'] -1) * 100\n",
    "print(f'Imóveis com vista para a água são, em média, {h7_percentual:.2f}% maior do que imóveis sem vista para a água.')"
   ]
  },
  {
   "cell_type": "markdown",
   "id": "507fb15b",
   "metadata": {},
   "source": [
    "# H8 - Os imóveis no Outono são 5% mais caros do que no inverno."
   ]
  },
  {
   "cell_type": "markdown",
   "id": "a438da73",
   "metadata": {},
   "source": [
    "Falso. Os imóveis no Outono são, em média, 2.55% mais caros do que no inverno."
   ]
  },
  {
   "cell_type": "code",
   "execution_count": 77,
   "id": "ba2c3705",
   "metadata": {
    "ExecuteTime": {
     "end_time": "2022-07-25T06:43:41.086527Z",
     "start_time": "2022-07-25T06:43:40.998762Z"
    }
   },
   "outputs": [
    {
     "name": "stdout",
     "output_type": "stream",
     "text": [
      "Os imóveis no Outono são, em média, 2.55% mais caros do que no inverno.\n"
     ]
    },
    {
     "data": {
      "image/png": "[encoded data removed]",
      "text/plain": [
       "<Figure size 432x288 with 1 Axes>"
      ]
     },
     "metadata": {
      "needs_background": "light"
     },
     "output_type": "display_data"
    }
   ],
   "source": [
    "h8 = data[['season', 'price']].groupby('season').mean().reset_index()\n",
    "\n",
    "sns.barplot(x='season', y='price', data = h8)\n",
    "\n",
    "h8_percentual = (h8.loc[0,'price'] / h8.loc[3,'price'] -1) * 100\n",
    "print(f'Os imóveis no Outono são, em média, {h8_percentual:.2f}% mais caros do que no inverno.')"
   ]
  },
  {
   "cell_type": "markdown",
   "id": "cfb81c16",
   "metadata": {},
   "source": [
    "# H9 - Imóveis com mais de 3 quartos vendem mais do que imóveis de 2 quartos."
   ]
  },
  {
   "cell_type": "markdown",
   "id": "fd070319",
   "metadata": {},
   "source": [
    "Verdadeiro. Como podemos observar no gráfico, imóveis de 3 quartos ou mais vendem mais do que imóveis com 2 ou menos quartos."
   ]
  },
  {
   "cell_type": "code",
   "execution_count": 78,
   "id": "262c1ead",
   "metadata": {
    "ExecuteTime": {
     "end_time": "2022-07-25T06:43:42.382510Z",
     "start_time": "2022-07-25T06:43:42.261804Z"
    }
   },
   "outputs": [
    {
     "name": "stdout",
     "output_type": "stream",
     "text": [
      "Os imóveis com mais de 3 quartos, vendem -21.57% a mais do que imóveis com 2 ou menos quartos.\n"
     ]
    },
    {
     "data": {
      "image/png": "[encoded data removed]",
      "text/plain": [
       "<Figure size 432x288 with 1 Axes>"
      ]
     },
     "metadata": {
      "needs_background": "light"
     },
     "output_type": "display_data"
    }
   ],
   "source": [
    "h9 = data[['bedrooms', 'price']].groupby('bedrooms').mean().reset_index()\n",
    "\n",
    "sns.barplot(x='bedrooms', y='price', data = h9)\n",
    "\n",
    "h9_percentual = (h9.loc[1,'price'] / h9.loc[0,'price'] -1) * 100\n",
    "print(f'Os imóveis com mais de 3 quartos, vendem {h9_percentual:.2f}% a mais do que imóveis com 2 ou menos quartos.')"
   ]
  },
  {
   "cell_type": "markdown",
   "id": "f572a079",
   "metadata": {},
   "source": [
    "# H10 - Imóveis com metragem maior que 100m² vendem mais."
   ]
  },
  {
   "cell_type": "markdown",
   "id": "44554039",
   "metadata": {},
   "source": [
    "Verdadeiro. Os imóveis com área maior que 100m², vendem 29.67% a mais do que imóveis com área menor que 100m²."
   ]
  },
  {
   "cell_type": "code",
   "execution_count": 79,
   "id": "2fee5362",
   "metadata": {
    "ExecuteTime": {
     "end_time": "2022-07-25T06:43:43.846967Z",
     "start_time": "2022-07-25T06:43:43.774162Z"
    },
    "scrolled": true
   },
   "outputs": [
    {
     "name": "stdout",
     "output_type": "stream",
     "text": [
      "Os imóveis com área maior que 100m², vendem 29.67% a mais do que imóveis com área menor que 100m².\n"
     ]
    },
    {
     "data": {
      "image/png": "[encoded data removed]",
      "text/plain": [
       "<Figure size 432x288 with 1 Axes>"
      ]
     },
     "metadata": {
      "needs_background": "light"
     },
     "output_type": "display_data"
    }
   ],
   "source": [
    "h10 = data[['footage', 'price']].groupby('footage').mean().reset_index()\n",
    "\n",
    "sns.barplot(x='footage', y='price', data = h10)\n",
    "\n",
    "h10_percentual = (h10.loc[0,'price'] / h10.loc[1,'price'] -1) * 100\n",
    "print(f'Os imóveis com área maior que 100m², vendem {h10_percentual:.2f}% a mais do que imóveis com área menor que 100m².')"
   ]
  },
  {
   "cell_type": "markdown",
   "id": "a026aa62",
   "metadata": {},
   "source": [
    "# Resolvendo as questões levantadas pelo CEO da House Rocket"
   ]
  },
  {
   "cell_type": "markdown",
   "id": "910a6176",
   "metadata": {},
   "source": [
    "# 1 - Quais são os imóveis que a House Rocket deveria comprar e por qual preço?"
   ]
  },
  {
   "cell_type": "markdown",
   "id": "fb95ba09",
   "metadata": {},
   "source": [
    "* Abaixo você verá que foi gerado um arquivo .csv com os dados de todos os imóveis sugeridos para compra.\n",
    "* Foram sugeridos para compra apenas os imóveis com valor abaixo da média do zipcode e com condição Regular ou Boa."
   ]
  },
  {
   "cell_type": "code",
   "execution_count": 80,
   "id": "90bcffa2",
   "metadata": {
    "ExecuteTime": {
     "end_time": "2022-07-25T06:43:47.436195Z",
     "start_time": "2022-07-25T06:43:45.607829Z"
    }
   },
   "outputs": [],
   "source": [
    "zipcode = data[['zipcode', 'price']].groupby('zipcode').median().reset_index()\n",
    "\n",
    "df = pd.merge(zipcode, data, on='zipcode', how='inner')\n",
    "\n",
    "df = df.rename(columns = {'price_y' : 'price', 'price_x' : 'price_median'})\n",
    "\n",
    "# Criação de coluna ('status') no DataFrame com sugestão de compra (ou não) do imóvel, \n",
    "# com base no preço médio por zipcode e condição do imóvel.\n",
    "for i in range(len(df)):\n",
    "    if (df.loc[i, 'price']< df.loc[i,'price_median']) & (df.loc[i, 'condition']>=3):\n",
    "        df.loc[i, 'status'] = 'Comprar'\n",
    "    else:\n",
    "        df.loc[i, 'status'] = 'Não comprar'\n",
    "        \n",
    "comprar = df[df['status'] == 'Comprar']\n",
    "\n",
    "comprar['status']. shape[0]\n",
    "\n",
    "result = comprar[['id', 'price', 'price_median', 'status']]\n",
    "result\n",
    "\n",
    "result.to_csv('comprar.csv')"
   ]
  },
  {
   "cell_type": "markdown",
   "id": "59a97354",
   "metadata": {},
   "source": [
    "# 2 - Uma vez a casa comprada, qual o melhor momento para vendê-la e por qual preço?"
   ]
  },
  {
   "cell_type": "markdown",
   "id": "59b27980",
   "metadata": {},
   "source": [
    "* Se o preço de compra, for maior que a mediana da região por sazonalidade, o preço de venda deve ser igual ao preço de compra acrescido 10%\n",
    "* Se o preço de compra, for menor que a mediana da regiaão por sazonalidade, o preço de venda deve ser o preço de compra acrescido 30%"
   ]
  },
  {
   "cell_type": "code",
   "execution_count": 82,
   "id": "c7579248",
   "metadata": {
    "ExecuteTime": {
     "end_time": "2022-07-25T06:43:54.045743Z",
     "start_time": "2022-07-25T06:43:49.800076Z"
    }
   },
   "outputs": [],
   "source": [
    "data = comprar[comprar['status'] == 'Comprar']\n",
    "\n",
    "df1 = data [['price', 'season', 'zipcode']]. groupby(['zipcode','season']).median().reset_index()\n",
    "df1 = df1.rename(columns={'price':'price_median_season'})\n",
    "\n",
    "df2 = pd.merge(df1,data, on='zipcode', how='inner')\n",
    "df2 = df2.rename(columns={'season_x':'season'})\n",
    "\n",
    "# Visualização do melhor valor a ser vendido cada imóvel.\n",
    "for i, row in df2.iterrows():\n",
    "    if (row['price'] >= row['price_median_season']):\n",
    "        df2.loc[i,'sale'] = row['price']*1.10\n",
    "    else:\n",
    "        df2.loc[i, 'sale'] = row['price']*1.30"
   ]
  },
  {
   "cell_type": "code",
   "execution_count": 83,
   "id": "71b4bb56",
   "metadata": {
    "ExecuteTime": {
     "end_time": "2022-07-25T06:43:54.169396Z",
     "start_time": "2022-07-25T06:43:54.155434Z"
    }
   },
   "outputs": [
    {
     "data": {
      "text/html": [
       "<div>\n",
       "<style scoped>\n",
       "    .dataframe tbody tr th:only-of-type {\n",
       "        vertical-align: middle;\n",
       "    }\n",
       "\n",
       "    .dataframe tbody tr th {\n",
       "        vertical-align: top;\n",
       "    }\n",
       "\n",
       "    .dataframe thead th {\n",
       "        text-align: right;\n",
       "    }\n",
       "</style>\n",
       "<table border=\"1\" class=\"dataframe\">\n",
       "  <thead>\n",
       "    <tr style=\"text-align: right;\">\n",
       "      <th></th>\n",
       "      <th>price</th>\n",
       "      <th>sale</th>\n",
       "      <th>profit</th>\n",
       "    </tr>\n",
       "  </thead>\n",
       "  <tbody>\n",
       "    <tr>\n",
       "      <th>0</th>\n",
       "      <td>230000.0</td>\n",
       "      <td>253000.0</td>\n",
       "      <td>23000.0</td>\n",
       "    </tr>\n",
       "    <tr>\n",
       "      <th>1</th>\n",
       "      <td>252000.0</td>\n",
       "      <td>277200.0</td>\n",
       "      <td>25200.0</td>\n",
       "    </tr>\n",
       "    <tr>\n",
       "      <th>2</th>\n",
       "      <td>227950.0</td>\n",
       "      <td>250745.0</td>\n",
       "      <td>22795.0</td>\n",
       "    </tr>\n",
       "    <tr>\n",
       "      <th>3</th>\n",
       "      <td>196000.0</td>\n",
       "      <td>254800.0</td>\n",
       "      <td>58800.0</td>\n",
       "    </tr>\n",
       "    <tr>\n",
       "      <th>4</th>\n",
       "      <td>243000.0</td>\n",
       "      <td>267300.0</td>\n",
       "      <td>24300.0</td>\n",
       "    </tr>\n",
       "    <tr>\n",
       "      <th>...</th>\n",
       "      <td>...</td>\n",
       "      <td>...</td>\n",
       "      <td>...</td>\n",
       "    </tr>\n",
       "    <tr>\n",
       "      <th>42015</th>\n",
       "      <td>465000.0</td>\n",
       "      <td>604500.0</td>\n",
       "      <td>139500.0</td>\n",
       "    </tr>\n",
       "    <tr>\n",
       "      <th>42016</th>\n",
       "      <td>542300.0</td>\n",
       "      <td>704990.0</td>\n",
       "      <td>162690.0</td>\n",
       "    </tr>\n",
       "    <tr>\n",
       "      <th>42017</th>\n",
       "      <td>570000.0</td>\n",
       "      <td>627000.0</td>\n",
       "      <td>57000.0</td>\n",
       "    </tr>\n",
       "    <tr>\n",
       "      <th>42018</th>\n",
       "      <td>453000.0</td>\n",
       "      <td>588900.0</td>\n",
       "      <td>135900.0</td>\n",
       "    </tr>\n",
       "    <tr>\n",
       "      <th>42019</th>\n",
       "      <td>549000.0</td>\n",
       "      <td>713700.0</td>\n",
       "      <td>164700.0</td>\n",
       "    </tr>\n",
       "  </tbody>\n",
       "</table>\n",
       "<p>42020 rows × 3 columns</p>\n",
       "</div>"
      ],
      "text/plain": [
       "          price      sale    profit\n",
       "0      230000.0  253000.0   23000.0\n",
       "1      252000.0  277200.0   25200.0\n",
       "2      227950.0  250745.0   22795.0\n",
       "3      196000.0  254800.0   58800.0\n",
       "4      243000.0  267300.0   24300.0\n",
       "...         ...       ...       ...\n",
       "42015  465000.0  604500.0  139500.0\n",
       "42016  542300.0  704990.0  162690.0\n",
       "42017  570000.0  627000.0   57000.0\n",
       "42018  453000.0  588900.0  135900.0\n",
       "42019  549000.0  713700.0  164700.0\n",
       "\n",
       "[42020 rows x 3 columns]"
      ]
     },
     "execution_count": 83,
     "metadata": {},
     "output_type": "execute_result"
    }
   ],
   "source": [
    "# Visualização do lucro a ser obtido por venda.\n",
    "df2['profit'] = df2['sale'] - df2['price']\n",
    "df2[['price','sale','profit']]"
   ]
  },
  {
   "cell_type": "code",
   "execution_count": 84,
   "id": "812f6ceb",
   "metadata": {
    "ExecuteTime": {
     "end_time": "2022-07-25T06:43:54.308777Z",
     "start_time": "2022-07-25T06:43:54.279468Z"
    }
   },
   "outputs": [
    {
     "data": {
      "text/html": [
       "<div>\n",
       "<style scoped>\n",
       "    .dataframe tbody tr th:only-of-type {\n",
       "        vertical-align: middle;\n",
       "    }\n",
       "\n",
       "    .dataframe tbody tr th {\n",
       "        vertical-align: top;\n",
       "    }\n",
       "\n",
       "    .dataframe thead th {\n",
       "        text-align: right;\n",
       "    }\n",
       "</style>\n",
       "<table border=\"1\" class=\"dataframe\">\n",
       "  <thead>\n",
       "    <tr style=\"text-align: right;\">\n",
       "      <th></th>\n",
       "      <th>id</th>\n",
       "      <th>season</th>\n",
       "      <th>sale</th>\n",
       "    </tr>\n",
       "  </thead>\n",
       "  <tbody>\n",
       "    <tr>\n",
       "      <th>39117</th>\n",
       "      <td>2800031</td>\n",
       "      <td>Autumn</td>\n",
       "      <td>258500.0</td>\n",
       "    </tr>\n",
       "    <tr>\n",
       "      <th>36426</th>\n",
       "      <td>3600057</td>\n",
       "      <td>Autumn</td>\n",
       "      <td>442750.0</td>\n",
       "    </tr>\n",
       "    <tr>\n",
       "      <th>40097</th>\n",
       "      <td>3800008</td>\n",
       "      <td>Autumn</td>\n",
       "      <td>231400.0</td>\n",
       "    </tr>\n",
       "    <tr>\n",
       "      <th>17701</th>\n",
       "      <td>7200179</td>\n",
       "      <td>Autumn</td>\n",
       "      <td>227500.0</td>\n",
       "    </tr>\n",
       "    <tr>\n",
       "      <th>31720</th>\n",
       "      <td>7400062</td>\n",
       "      <td>Autumn</td>\n",
       "      <td>329780.0</td>\n",
       "    </tr>\n",
       "    <tr>\n",
       "      <th>...</th>\n",
       "      <td>...</td>\n",
       "      <td>...</td>\n",
       "      <td>...</td>\n",
       "    </tr>\n",
       "    <tr>\n",
       "      <th>34392</th>\n",
       "      <td>9842300095</td>\n",
       "      <td>Autumn</td>\n",
       "      <td>401500.0</td>\n",
       "    </tr>\n",
       "    <tr>\n",
       "      <th>34285</th>\n",
       "      <td>9842300485</td>\n",
       "      <td>Autumn</td>\n",
       "      <td>418000.0</td>\n",
       "    </tr>\n",
       "    <tr>\n",
       "      <th>34318</th>\n",
       "      <td>9842300540</td>\n",
       "      <td>Autumn</td>\n",
       "      <td>372900.0</td>\n",
       "    </tr>\n",
       "    <tr>\n",
       "      <th>7310</th>\n",
       "      <td>9895000040</td>\n",
       "      <td>Autumn</td>\n",
       "      <td>519870.0</td>\n",
       "    </tr>\n",
       "    <tr>\n",
       "      <th>38670</th>\n",
       "      <td>9900000190</td>\n",
       "      <td>Autumn</td>\n",
       "      <td>349635.0</td>\n",
       "    </tr>\n",
       "  </tbody>\n",
       "</table>\n",
       "<p>10505 rows × 3 columns</p>\n",
       "</div>"
      ],
      "text/plain": [
       "               id  season      sale\n",
       "39117     2800031  Autumn  258500.0\n",
       "36426     3600057  Autumn  442750.0\n",
       "40097     3800008  Autumn  231400.0\n",
       "17701     7200179  Autumn  227500.0\n",
       "31720     7400062  Autumn  329780.0\n",
       "...           ...     ...       ...\n",
       "34392  9842300095  Autumn  401500.0\n",
       "34285  9842300485  Autumn  418000.0\n",
       "34318  9842300540  Autumn  372900.0\n",
       "7310   9895000040  Autumn  519870.0\n",
       "38670  9900000190  Autumn  349635.0\n",
       "\n",
       "[10505 rows x 3 columns]"
      ]
     },
     "execution_count": 84,
     "metadata": {},
     "output_type": "execute_result"
    }
   ],
   "source": [
    "# Visualização da melhor estação para vender o imóvel.\n",
    "df3 = df3[['id', 'price', 'zipcode', 'price_median', 'season', 'price_median_season', \n",
    "           'condition_type', 'status', 'sale', 'profit']].sort_values(['id','profit'])\n",
    "\n",
    "df3 = df3.drop_duplicates(subset=['id'], keep='first')\n",
    "\n",
    "melhor_est = df3[['id','season','sale']]\n",
    "melhor_est"
   ]
  },
  {
   "cell_type": "markdown",
   "id": "0cb88242",
   "metadata": {},
   "source": [
    "# Lucro Total a ser gerado através deste projeto de análise."
   ]
  },
  {
   "cell_type": "markdown",
   "id": "27ac93af",
   "metadata": {},
   "source": [
    "* Custo total:"
   ]
  },
  {
   "cell_type": "code",
   "execution_count": 85,
   "id": "0b0cd92c",
   "metadata": {
    "ExecuteTime": {
     "end_time": "2022-07-25T06:43:54.432949Z",
     "start_time": "2022-07-25T06:43:54.417989Z"
    }
   },
   "outputs": [
    {
     "name": "stdout",
     "output_type": "stream",
     "text": [
      "O custo total da aquisição dos imóveis sugeridos por este projeto de análise é de 4,079,586,744.00\n"
     ]
    }
   ],
   "source": [
    "custo = df3['price'].sum()\n",
    "custo\n",
    "print(f'O custo total da aquisição dos imóveis sugeridos por este projeto de análise é de {custo :,.2f}')"
   ]
  },
  {
   "cell_type": "markdown",
   "id": "6b698241",
   "metadata": {
    "ExecuteTime": {
     "end_time": "2022-07-20T03:47:47.426919Z",
     "start_time": "2022-07-20T03:47:47.414951Z"
    }
   },
   "source": [
    "* Receita total:"
   ]
  },
  {
   "cell_type": "code",
   "execution_count": 86,
   "id": "da4f1b90",
   "metadata": {
    "ExecuteTime": {
     "end_time": "2022-07-25T06:44:01.564472Z",
     "start_time": "2022-07-25T06:44:01.549501Z"
    }
   },
   "outputs": [
    {
     "name": "stdout",
     "output_type": "stream",
     "text": [
      "A receita total gerada com a venda de todos os imóveis sugeridos por este projeto de análise é 4,766,745,551.20\n"
     ]
    }
   ],
   "source": [
    "receita = df3['sale'].sum()\n",
    "receita\n",
    "print(f'A receita total gerada com a venda de todos os imóveis sugeridos por este projeto de análise é {receita :,.2f}')"
   ]
  },
  {
   "cell_type": "markdown",
   "id": "a431f42a",
   "metadata": {},
   "source": [
    "* Lucro total:"
   ]
  },
  {
   "cell_type": "code",
   "execution_count": 87,
   "id": "1164ca84",
   "metadata": {
    "ExecuteTime": {
     "end_time": "2022-07-25T06:44:02.692637Z",
     "start_time": "2022-07-25T06:44:02.684658Z"
    }
   },
   "outputs": [
    {
     "name": "stdout",
     "output_type": "stream",
     "text": [
      "O lucro total obtido com a venda de todos os imóveis sugeridos por este projeto de análise é 687,158,807.20\n"
     ]
    }
   ],
   "source": [
    "lucro = df3['profit'].sum()\n",
    "lucro\n",
    "print(f'O lucro total obtido com a venda de todos os imóveis sugeridos por este projeto de análise é {lucro :,.2f}')"
   ]
  }
 ],
 "metadata": {
  "hide_input": false,
  "kernelspec": {
   "display_name": "Python 3 (ipykernel)",
   "language": "python",
   "name": "python3"
  },
  "language_info": {
   "codemirror_mode": {
    "name": "ipython",
    "version": 3
   },
   "file_extension": ".py",
   "mimetype": "text/x-python",
   "name": "python",
   "nbconvert_exporter": "python",
   "pygments_lexer": "ipython3",
   "version": "3.9.12"
  },
  "varInspector": {
   "cols": {
    "lenName": 16,
    "lenType": 16,
    "lenVar": 40
   },
   "kernels_config": {
    "python": {
     "delete_cmd_postfix": "",
     "delete_cmd_prefix": "del ",
     "library": "var_list.py",
     "varRefreshCmd": "print(var_dic_list())"
    },
    "r": {
     "delete_cmd_postfix": ") ",
     "delete_cmd_prefix": "rm(",
     "library": "var_list.r",
     "varRefreshCmd": "cat(var_dic_list()) "
    }
   },
   "types_to_exclude": [
    "module",
    "function",
    "builtin_function_or_method",
    "instance",
    "_Feature"
   ],
   "window_display": false
  }
 },
 "nbformat": 4,
 "nbformat_minor": 5
}
